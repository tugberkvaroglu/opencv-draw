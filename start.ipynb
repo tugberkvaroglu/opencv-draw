{
 "cells": [
  {
   "cell_type": "code",
   "execution_count": 66,
   "metadata": {},
   "outputs": [],
   "source": [
    "import cv2\n",
    "from cvzone.HandTrackingModule import HandDetector as hd\n",
    "import time\n",
    "import numpy as np"
   ]
  },
  {
   "cell_type": "code",
   "execution_count": 67,
   "metadata": {},
   "outputs": [
    {
     "data": {
      "text/plain": [
       "True"
      ]
     },
     "execution_count": 67,
     "metadata": {},
     "output_type": "execute_result"
    }
   ],
   "source": [
    "cap = cv2.VideoCapture(0)\n",
    "cap.set(3, 1280)\n",
    "cap.set(4, 720)"
   ]
  },
  {
   "cell_type": "code",
   "execution_count": 68,
   "metadata": {},
   "outputs": [],
   "source": [
    "detector = hd(detectionCon=int(0.7))"
   ]
  },
  {
   "cell_type": "code",
   "execution_count": 69,
   "metadata": {},
   "outputs": [],
   "source": [
    "cx, cy = 200, 200\n",
    "canvas = None"
   ]
  },
  {
   "cell_type": "code",
   "execution_count": 70,
   "metadata": {},
   "outputs": [],
   "source": [
    "while True:\n",
    "    succ, img = cap.read()\n",
    "    img = cv2.flip(img, 1)\n",
    "\n",
    "    if canvas is None:\n",
    "        canvas = np.zeros_like(img)\n",
    "\n",
    "    hands, img = detector.findHands(img)\n",
    "    imgResult = img.copy()\n",
    "\n",
    "    if len(hands) == 1:\n",
    "\n",
    "        lmList1 = hands[0][\"lmList\"]\n",
    "        length, info, img = detector.findDistance(lmList1[4], lmList1[8] , img)\n",
    "        #print(length)\n",
    "\n",
    "        cx, cy = info[4:]\n",
    "\n",
    "        if length <= 30:\n",
    "            # Draw on the canvas\n",
    "            cv2.circle(canvas, (cx, cy), 5, [255, 0, 255], cv2.FILLED)\n",
    "\n",
    "    # Combine the canvas with the original image\n",
    "    imgResult = cv2.add(imgResult, canvas)\n",
    "\n",
    "    if cv2.waitKey(1) & 0xFF == ord(\"q\"):\n",
    "        break\n",
    "\n",
    "    cv2.imshow(\"Image\", imgResult)\n",
    "    \n",
    "\n",
    "cap.release()\n",
    "cv2.destroyAllWindows()"
   ]
  }
 ],
 "metadata": {
  "kernelspec": {
   "display_name": "Python 3",
   "language": "python",
   "name": "python3"
  },
  "language_info": {
   "codemirror_mode": {
    "name": "ipython",
    "version": 3
   },
   "file_extension": ".py",
   "mimetype": "text/x-python",
   "name": "python",
   "nbconvert_exporter": "python",
   "pygments_lexer": "ipython3",
   "version": "3.10.12"
  }
 },
 "nbformat": 4,
 "nbformat_minor": 2
}
